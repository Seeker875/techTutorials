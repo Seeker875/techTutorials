{
 "cells": [
  {
   "cell_type": "markdown",
   "metadata": {},
   "source": [
    "## Recursion \n",
    "\n",
    "#### Examples\n",
    "#### Tail Recursion\n",
    "#### Currying"
   ]
  },
  {
   "cell_type": "code",
   "execution_count": 10,
   "metadata": {},
   "outputs": [
    {
     "data": {
      "text/plain": [
       "24"
      ]
     },
     "execution_count": 10,
     "metadata": {},
     "output_type": "execute_result"
    }
   ],
   "source": [
    "def getFactorial(n):\n",
    "    '''\n",
    "    Iterative\n",
    "    '''\n",
    "    res = 1 \n",
    "    for num in range(1,n+1):\n",
    "        res*=num\n",
    "    return res\n",
    "getFactorial(4)"
   ]
  },
  {
   "cell_type": "code",
   "execution_count": 12,
   "metadata": {},
   "outputs": [
    {
     "data": {
      "text/plain": [
       "120"
      ]
     },
     "execution_count": 12,
     "metadata": {},
     "output_type": "execute_result"
    }
   ],
   "source": [
    "def getFactorial(n):\n",
    "    '''\n",
    "    Recursive\n",
    "    '''\n",
    "    if n<1:\n",
    "        return 1\n",
    "    else:\n",
    "        return n*getFactorial(n-1)\n",
    "getFactorial(5)\n"
   ]
  },
  {
   "cell_type": "code",
   "execution_count": 14,
   "metadata": {},
   "outputs": [
    {
     "data": {
      "text/plain": [
       "7"
      ]
     },
     "execution_count": 14,
     "metadata": {},
     "output_type": "execute_result"
    }
   ],
   "source": [
    "def getGcd(a,b):\n",
    "    '''\n",
    "    Example of tail recursive\n",
    "    one same stack can be used, overwrite is possible\n",
    "    '''\n",
    "    if b==0:\n",
    "        return a\n",
    "    else: \n",
    "        return getGcd(b,a%b)\n",
    "getGcd(14,21)    "
   ]
  },
  {
   "cell_type": "code",
   "execution_count": 18,
   "metadata": {},
   "outputs": [
    {
     "data": {
      "text/plain": [
       "120"
      ]
     },
     "execution_count": 18,
     "metadata": {},
     "output_type": "execute_result"
    }
   ],
   "source": [
    "def getFactorial(n):\n",
    "    '''\n",
    "    Tail Recursive\n",
    "    Fn should return only itself in the last call to use \n",
    "    Not req though\n",
    "    '''\n",
    "    def acc(ac,n):\n",
    "        if n<1:\n",
    "            return ac\n",
    "        else:\n",
    "            return acc(ac*n,n-1)\n",
    "    return acc(1,n) \n",
    "   \n",
    "getFactorial(5)    "
   ]
  },
  {
   "cell_type": "code",
   "execution_count": 5,
   "metadata": {},
   "outputs": [
    {
     "data": {
      "text/plain": [
       "14"
      ]
     },
     "execution_count": 5,
     "metadata": {},
     "output_type": "execute_result"
    }
   ],
   "source": [
    "def sumInts(a,b):\n",
    "    '''\n",
    "    Non recursion method\n",
    "    '''\n",
    "    res=0\n",
    "    for num in range(a,b+1):\n",
    "        res+=num\n",
    "    return res\n",
    "\n",
    "sumInts(2,5)"
   ]
  },
  {
   "cell_type": "code",
   "execution_count": 3,
   "metadata": {},
   "outputs": [],
   "source": [
    "def sumInts(a,b):\n",
    "    '''\n",
    "    By recursion\n",
    "    '''\n",
    "    if a>b:\n",
    "        return 0\n",
    "    else:\n",
    "        return a + sumInts(a+1 ,b)\n",
    "    "
   ]
  },
  {
   "cell_type": "code",
   "execution_count": 4,
   "metadata": {},
   "outputs": [
    {
     "data": {
      "text/plain": [
       "14"
      ]
     },
     "execution_count": 4,
     "metadata": {},
     "output_type": "execute_result"
    }
   ],
   "source": [
    "sumInts(2,5)"
   ]
  },
  {
   "cell_type": "code",
   "execution_count": 6,
   "metadata": {},
   "outputs": [],
   "source": [
    "### For cubes\n",
    "\n",
    "def cube(x):\n",
    "    return x**3\n",
    "\n",
    "def sumInts(a,b,fn):\n",
    "    '''\n",
    "    Non recursion method\n",
    "    Higher order fn\n",
    "    argument is a fn\n",
    "    '''\n",
    "    res=0\n",
    "    for num in range(a,b+1):\n",
    "        res+=fn(num)\n",
    "    return res\n",
    "\n"
   ]
  },
  {
   "cell_type": "code",
   "execution_count": 8,
   "metadata": {},
   "outputs": [
    {
     "data": {
      "text/plain": [
       "99"
      ]
     },
     "execution_count": 8,
     "metadata": {},
     "output_type": "execute_result"
    }
   ],
   "source": [
    "sumInts(2,4,cube)"
   ]
  },
  {
   "cell_type": "code",
   "execution_count": 9,
   "metadata": {},
   "outputs": [
    {
     "data": {
      "text/plain": [
       "99"
      ]
     },
     "execution_count": 9,
     "metadata": {},
     "output_type": "execute_result"
    }
   ],
   "source": [
    "2**3+3**3+4**3"
   ]
  },
  {
   "cell_type": "code",
   "execution_count": 19,
   "metadata": {},
   "outputs": [
    {
     "data": {
      "text/plain": [
       "29"
      ]
     },
     "execution_count": 19,
     "metadata": {},
     "output_type": "execute_result"
    }
   ],
   "source": [
    "sumInts(2,4,lambda x : x**2)"
   ]
  },
  {
   "cell_type": "code",
   "execution_count": 21,
   "metadata": {},
   "outputs": [
    {
     "data": {
      "text/plain": [
       "29"
      ]
     },
     "execution_count": 21,
     "metadata": {},
     "output_type": "execute_result"
    }
   ],
   "source": [
    "def sumInts(a,b,fn):\n",
    "    '''\n",
    "    Recursive\n",
    "    Higher order fn\n",
    "    argument is a fn\n",
    "    '''\n",
    "    if a>b:\n",
    "        return 0\n",
    "    else:\n",
    "        return fn(a) + sumInts(a+1 ,b,fn)\n",
    "sumInts(2,4,lambda x : x**2)"
   ]
  },
  {
   "cell_type": "code",
   "execution_count": 22,
   "metadata": {},
   "outputs": [
    {
     "data": {
      "text/plain": [
       "32"
      ]
     },
     "execution_count": 22,
     "metadata": {},
     "output_type": "execute_result"
    }
   ],
   "source": [
    "### sum of factorials\n",
    "sumInts(2,4,getFactorial)"
   ]
  },
  {
   "cell_type": "markdown",
   "metadata": {},
   "source": [
    "#### Can we generalize this further \n",
    "\n",
    "we need a fn which return x ^n as a fn to be passed to a our fn"
   ]
  },
  {
   "cell_type": "code",
   "execution_count": 35,
   "metadata": {},
   "outputs": [],
   "source": [
    "def sumInts(fn):\n",
    "    '''\n",
    "    Recursive\n",
    "    Higher order fn\n",
    "    argument is a fn\n",
    "    \n",
    "    Reurning a Function\n",
    "    '''\n",
    "    def sumInner(a,b):\n",
    "        if a>b:\n",
    "            return 0\n",
    "        else:\n",
    "            return fn(a) + sumInner(a+1 ,b)\n",
    "        \n",
    "    return  sumInner\n"
   ]
  },
  {
   "cell_type": "code",
   "execution_count": 36,
   "metadata": {},
   "outputs": [],
   "source": [
    "sumSq = sumInts(lambda x : x**2)"
   ]
  },
  {
   "cell_type": "code",
   "execution_count": 37,
   "metadata": {},
   "outputs": [
    {
     "data": {
      "text/plain": [
       "13"
      ]
     },
     "execution_count": 37,
     "metadata": {},
     "output_type": "execute_result"
    }
   ],
   "source": [
    "sumSq(2,3)"
   ]
  },
  {
   "cell_type": "code",
   "execution_count": 38,
   "metadata": {},
   "outputs": [
    {
     "data": {
      "text/plain": [
       "8"
      ]
     },
     "execution_count": 38,
     "metadata": {},
     "output_type": "execute_result"
    }
   ],
   "source": [
    "sumFacts = sumInts(getFactorial)\n",
    "sumFacts(2,3)"
   ]
  },
  {
   "cell_type": "code",
   "execution_count": 39,
   "metadata": {},
   "outputs": [
    {
     "data": {
      "text/plain": [
       "21"
      ]
     },
     "execution_count": 39,
     "metadata": {},
     "output_type": "execute_result"
    }
   ],
   "source": [
    "sumSq(2,3)+sumFacts(2,3)"
   ]
  },
  {
   "cell_type": "markdown",
   "metadata": {},
   "source": [
    "#### Functions associates to the left\n",
    "\n",
    "Directly defining\n",
    "sumInts(lambda x : x**2)(2,3) =(sumInts(lambda x : x**2))(2,3)"
   ]
  },
  {
   "cell_type": "code",
   "execution_count": 42,
   "metadata": {},
   "outputs": [
    {
     "data": {
      "text/plain": [
       "13"
      ]
     },
     "execution_count": 42,
     "metadata": {},
     "output_type": "execute_result"
    }
   ],
   "source": [
    "###Currying\n",
    "### we can pass n argument lists by def\n",
    "sumInts(lambda x : x**2)(2,3)"
   ]
  },
  {
   "cell_type": "code",
   "execution_count": 43,
   "metadata": {},
   "outputs": [],
   "source": [
    "### defining for any combing fn.\n",
    "### product or loss\n",
    "\n",
    "def mapRed(fn,combine,zero,a,b):\n",
    "    '''\n",
    "    for sum zero will be 0\n",
    "    for product it will be 1\n",
    "    '''\n",
    "    if a>b:\n",
    "        return zero\n",
    "    else:\n",
    "        return combine(fn(a), mapRed(fn,combine,zero,a+1 ,b))\n",
    "\n"
   ]
  },
  {
   "cell_type": "code",
   "execution_count": 45,
   "metadata": {},
   "outputs": [
    {
     "data": {
      "text/plain": [
       "54"
      ]
     },
     "execution_count": 45,
     "metadata": {},
     "output_type": "execute_result"
    }
   ],
   "source": [
    "mapRed(lambda x : x**2,lambda x,y : x+y,0,2,5)"
   ]
  },
  {
   "cell_type": "code",
   "execution_count": 48,
   "metadata": {},
   "outputs": [
    {
     "data": {
      "text/plain": [
       "36"
      ]
     },
     "execution_count": 48,
     "metadata": {},
     "output_type": "execute_result"
    }
   ],
   "source": [
    "mapRed(lambda x : x**2,lambda x,y : x*y,1,2,3)"
   ]
  },
  {
   "cell_type": "code",
   "execution_count": 49,
   "metadata": {},
   "outputs": [
    {
     "data": {
      "text/plain": [
       "6"
      ]
     },
     "execution_count": 49,
     "metadata": {},
     "output_type": "execute_result"
    }
   ],
   "source": [
    "mapRed(lambda x : x,lambda x,y : x*y,1,1,3)"
   ]
  },
  {
   "cell_type": "code",
   "execution_count": 50,
   "metadata": {},
   "outputs": [
    {
     "data": {
      "text/plain": [
       "120"
      ]
     },
     "execution_count": 50,
     "metadata": {},
     "output_type": "execute_result"
    }
   ],
   "source": [
    "#### same as factorial\n",
    "mapRed(lambda x : x,lambda x,y : x*y,1,1,5)"
   ]
  },
  {
   "cell_type": "markdown",
   "metadata": {},
   "source": []
  }
 ],
 "metadata": {
  "kernelspec": {
   "display_name": "Python 3.7.7 64-bit",
   "language": "python",
   "name": "python37764bitebfcc91527ca4e038aba637efa8b1e30"
  },
  "language_info": {
   "codemirror_mode": {
    "name": "ipython",
    "version": 3
   },
   "file_extension": ".py",
   "mimetype": "text/x-python",
   "name": "python",
   "nbconvert_exporter": "python",
   "pygments_lexer": "ipython3",
   "version": "3.8.5"
  }
 },
 "nbformat": 4,
 "nbformat_minor": 4
}

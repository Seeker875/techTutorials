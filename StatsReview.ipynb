{
 "cells": [
  {
   "cell_type": "markdown",
   "metadata": {},
   "source": [
    "## Stats Review\n",
    "\n",
    "#### Topics Covered\n",
    "1. Simulation\n",
    "2. Samples\n",
    "3. Movements of a Distribution\n",
    "4. Standard Error"
   ]
  },
  {
   "cell_type": "code",
   "execution_count": 43,
   "metadata": {},
   "outputs": [
    {
     "name": "stdout",
     "output_type": "stream",
     "text": [
      "4\n",
      "5\n",
      "5\n",
      "5\n",
      "2\n",
      "2\n",
      "4\n",
      "4\n",
      "6\n",
      "3\n",
      "6\n",
      "6\n",
      "4\n",
      "4\n",
      "2\n",
      "4\n",
      "3\n",
      "5\n",
      "2\n",
      "3\n"
     ]
    }
   ],
   "source": [
    "from random import choices\n",
    "rolls = [1,2,3,4,5,6]\n",
    "weights = [0,0.167,0.167,0.167,0.167,0.333]\n",
    "\n",
    "for _ in range(20):\n",
    "    print(choices(rolls,weights)[0])"
   ]
  },
  {
   "cell_type": "code",
   "execution_count": 41,
   "metadata": {},
   "outputs": [
    {
     "name": "stdout",
     "output_type": "stream",
     "text": [
      "5\n"
     ]
    }
   ],
   "source": [
    "print(choices(rolls,weights)[0])"
   ]
  },
  {
   "cell_type": "code",
   "execution_count": 42,
   "metadata": {},
   "outputs": [],
   "source": [
    "def simulateDiceRoll(NumRolls,weights):\n",
    "    '''\n",
    "    simulate and get probability of dice rolls\n",
    "\n",
    "    '''\n",
    "    from random import choices\n",
    "    \n",
    "    rolls = [1,2,3,4,5,6]\n",
    "    results=[0]*6\n",
    "    for _ in range(NumRolls):\n",
    "        roll = choices(rolls,weights)[0]\n",
    "        results[roll-1]+=1\n",
    "    return results  "
   ]
  },
  {
   "cell_type": "code",
   "execution_count": 33,
   "metadata": {},
   "outputs": [],
   "source": [
    "\n",
    "def uniformRolls(weights):\n",
    "    import numpy as np\n",
    "    print('Enter NumTrails')\n",
    "    NumTrails = int(input())\n",
    "    print('Enter NumRolls')\n",
    "    NumRolls= int(input())\n",
    " \n",
    "    results= np.zeros(shape=(1,6),dtype='int') \n",
    "\n",
    "    for _ in range(NumTrails):\n",
    "        results=np.vstack((results,simulateDiceRoll(NumRolls=NumRolls,weights=weights))) \n",
    "   \n",
    "    #remove top placeholder row\n",
    "    results=np.delete(results, (0), axis=0)\n",
    "\n",
    "#     print('Atleast one event for all faces of the dice')\n",
    "#     print(np.count_nonzero(results, axis=0))\n",
    "    res =np.sum(results,axis=0)\n",
    "#     print(res)\n",
    "    print('###########Totals#######')\n",
    "    for i,val in enumerate(res):\n",
    "        print(f'Proportion of {i+1} :  {val/sum(res):.6f}')\n",
    "\n",
    "\n"
   ]
  },
  {
   "cell_type": "code",
   "execution_count": 48,
   "metadata": {},
   "outputs": [
    {
     "name": "stdout",
     "output_type": "stream",
     "text": [
      "Enter NumTrails\n",
      "100\n",
      "Enter NumRolls\n",
      "1\n",
      "###########Totals#######\n",
      "Proportion of 1 :  0.060000\n",
      "Proportion of 2 :  0.160000\n",
      "Proportion of 3 :  0.160000\n",
      "Proportion of 4 :  0.170000\n",
      "Proportion of 5 :  0.150000\n",
      "Proportion of 6 :  0.300000\n"
     ]
    }
   ],
   "source": [
    "uniformRolls(weights = [0.08,0.167,0.167,0.167,0.167,0.24])\n"
   ]
  },
  {
   "cell_type": "code",
   "execution_count": null,
   "metadata": {},
   "outputs": [],
   "source": [
    "# This will run with activity 1\n",
    "temperatures.plot(kind='density')"
   ]
  },
  {
   "cell_type": "code",
   "execution_count": null,
   "metadata": {},
   "outputs": [],
   "source": [
    "# numeric variable Income\n",
    "1k, 2k, 5k\n",
    "\n",
    "# ordinal variables, factors, categorical\n",
    "graduate 10 , U g 5 , phd 6\n",
    "\n",
    "#categorical\n",
    "#Dont have inherent order\n",
    "Female male\n",
    "zip code\n",
    "\n"
   ]
  },
  {
   "cell_type": "code",
   "execution_count": null,
   "metadata": {},
   "outputs": [],
   "source": [
    "\n",
    "trimmed_mean =sts.trim_mean(temperatures,0.1)\n",
    "print(f\"The trimmed at the LAX airport is {trimmed_mean}\")"
   ]
  },
  {
   "cell_type": "code",
   "execution_count": null,
   "metadata": {},
   "outputs": [],
   "source": [
    "np.std(sample)/(29**0.5)"
   ]
  }
 ],
 "metadata": {
  "kernelspec": {
   "display_name": "Python 3.7.7 64-bit",
   "language": "python",
   "name": "python37764bitebfcc91527ca4e038aba637efa8b1e30"
  },
  "language_info": {
   "codemirror_mode": {
    "name": "ipython",
    "version": 3
   },
   "file_extension": ".py",
   "mimetype": "text/x-python",
   "name": "python",
   "nbconvert_exporter": "python",
   "pygments_lexer": "ipython3",
   "version": "3.7.7"
  }
 },
 "nbformat": 4,
 "nbformat_minor": 4
}
